{
 "cells": [
  {
   "cell_type": "markdown",
   "metadata": {},
   "source": [
    "# Simulación del tráfico en un carril."
   ]
  },
  {
   "cell_type": "markdown",
   "metadata": {},
   "source": [
    "Primero se simulará para dos carros. La ecuación que simulará la velocidad de los vehículos es el mínimo entre\n",
    "\n",
    "$$\\dot{x_i} = \\frac{1}{T_i}(x_{i-1}-x_i -\\frac{l_i + l_{i-1}}{2}) \n",
    "$$ \n",
    "\n",
    "y\n",
    "\n",
    "$$ \\dot{x_i} = v_{max_{i}} $$"
   ]
  },
  {
   "cell_type": "code",
   "execution_count": 78,
   "metadata": {
    "collapsed": false
   },
   "outputs": [],
   "source": [
    "#Llamando al paquete de Taylor\n",
    "using TaylorSeries"
   ]
  },
  {
   "cell_type": "code",
   "execution_count": 10,
   "metadata": {
    "collapsed": false
   },
   "outputs": [
    {
     "name": "stderr",
     "output_type": "stream",
     "text": [
      " in depwarn at deprecated.jl:73\n",
      " in call at deprecated.jl:50\n",
      " in include at ./boot.jl:261\n",
      " in include_from_node1 at ./loading.jl:304\n",
      " in include at ./boot.jl:261\n",
      " in include_from_node1 at ./loading.jl:304\n",
      " in require at ./loading.jl:243\n",
      " in include_string at loading.jl:266\n",
      " in execute_request_0x535c5df2 at /home/csar/.julia/v0.4/IJulia/src/execute_request.jl:177\n",
      " in eventloop at /home/csar/.julia/v0.4/IJulia/src/IJulia.jl:141\n",
      " in anonymous at task.jl:447\n",
      "while loading /home/csar/.julia/v0.4/TaylorSeries/src/printing.jl, in expression starting on line 149\n",
      "WARNING: Union(args...) is deprecated, use Union{args...} instead.\n",
      " in depwarn at deprecated.jl:73\n",
      " in call at deprecated.jl:50\n",
      " in include at ./boot.jl:261\n",
      " in include_from_node1 at ./loading.jl:304\n",
      " in include at ./boot.jl:261\n",
      " in include_from_node1 at ./loading.jl:304\n",
      " in require at ./loading.jl:243\n",
      " in include_string at loading.jl:266\n",
      " in execute_request_0x535c5df2 at /home/csar/.julia/v0.4/IJulia/src/execute_request.jl:177\n",
      " in eventloop at /home/csar/.julia/v0.4/IJulia/src/IJulia.jl:141\n",
      " in anonymous at task.jl:447\n",
      "while loading /home/csar/.julia/v0.4/TaylorSeries/src/printing.jl, in expression starting on line 154\n"
     ]
    }
   ],
   "source": [
    "#Definiendo parámetros. Sólo para fijar ideas.\n",
    "\n",
    "x1_0 = 0.0;\n",
    "x2_0 = pi;\n",
    "l1 = pi/16;\n",
    "l2 = l1;\n",
    "V1 = pi/4;\n",
    "V2 = pi/2;\n",
    "\n",
    "per1=1;\n",
    "per2=1;\n",
    "\n"
   ]
  },
  {
   "cell_type": "markdown",
   "metadata": {},
   "source": [
    "A continuación se escribe la función `modulo2pi` que encuentra la diferencia entre dos ángulos en módulo 2$\\pi$"
   ]
  },
  {
   "cell_type": "code",
   "execution_count": 11,
   "metadata": {
    "collapsed": false
   },
   "outputs": [
    {
     "data": {
      "text/plain": [
       "modulo2pi (generic function with 1 method)"
      ]
     },
     "execution_count": 11,
     "metadata": {},
     "output_type": "execute_result"
    }
   ],
   "source": [
    "function modulo2pi(α,β)\n",
    "    #Esta función calcula la diferencia entre dos ángulos y la devuelve \n",
    "    #módulo 2π.\n",
    "    δ=α-β \n",
    "    \n",
    "    if δ<0\n",
    "        δ = 2π + δ\n",
    "    else \n",
    "        δ = δ \n",
    "    end\n",
    "    \n",
    "    return δ\n",
    "end"
   ]
  },
  {
   "cell_type": "code",
   "execution_count": 12,
   "metadata": {
    "collapsed": false
   },
   "outputs": [
    {
     "data": {
      "text/plain": [
       "fmax (generic function with 1 method)"
      ]
     },
     "execution_count": 12,
     "metadata": {},
     "output_type": "execute_result"
    }
   ],
   "source": [
    "#La siguiente función calcula los coeficientes de la velocidad de seguridad\n",
    "\n",
    "function fSec{R<:Real }(T::R, car::TaylorSeries.Taylor1{R}, frontcar::TaylorSeries.Taylor1{R} , lfcar::R, Vmax::R)\n",
    "    k = max(car.order, frontcar.order)\n",
    "    \n",
    "    vel = taylor1_variable(Float64, k)\n",
    "     \n",
    "    vel.coeffs[1] = 1/T * modulo2pi(frontcar.coeffs[1]-lfcar,car.coeffs[1])\n",
    "    \n",
    "    for i = 2 : k+1\n",
    "        vel.coeffs[i] = 1/T * (frontcar.coeffs[i]-car.coeffs[i])\n",
    "    end\n",
    "        \n",
    "    \n",
    "    return vel\n",
    "end\n",
    "\n",
    "function fmax{R<:Real}(T::R, car::TaylorSeries.Taylor1{R}, frontcar::TaylorSeries.Taylor1{R} , lfcar::R, Vmax::R)\n",
    "    vel = taylor1_variable(Float64,10)\n",
    "    \n",
    "    vel.coeffs[1] = Vmax\n",
    "    vel.coeffs[2] = 0\n",
    "    return vel\n",
    "end\n"
   ]
  },
  {
   "cell_type": "markdown",
   "metadata": {},
   "source": [
    "Ahora se definen un par de variables tipo `Taylor1` que tendrá información de las series de taylor de las funciones $x_1 (t)$ y $x_2 (t)$."
   ]
  },
  {
   "cell_type": "markdown",
   "metadata": {
    "collapsed": true
   },
   "source": [
    "Ahora, a encontrar los siguientes coeficientes. Usando que \n",
    "$$ x_{n+1} = \\frac{f_n}{n+1} $$"
   ]
  },
  {
   "cell_type": "markdown",
   "metadata": {
    "collapsed": false
   },
   "source": [
    "Es momento de avanzar. definamos la épsilon y la función para calcular el siguiente paso.\n",
    "\n",
    "Sabemos que el paso siguiente está dado por \n",
    "$$ h = \\min\\big[\\, \\big(\\frac{\\epsilon}{x^{[p-1]}}\\big)^{1/(p-1)}, \\big(\\frac{\\epsilon}{x^{[p]}}\\big)^{1/p}\\, \\big] $$"
   ]
  },
  {
   "cell_type": "code",
   "execution_count": 13,
   "metadata": {
    "collapsed": false
   },
   "outputs": [
    {
     "data": {
      "text/plain": [
       "stepsize (generic function with 1 method)"
      ]
     },
     "execution_count": 13,
     "metadata": {},
     "output_type": "execute_result"
    }
   ],
   "source": [
    "function stepsize{T<:Real}(x::TaylorSeries.Taylor1{T}, epsilon::Float64)\n",
    "    ord = x.order\n",
    "    h = Inf\n",
    "    \n",
    "    if ord > 1\n",
    "        \n",
    "        for k in [ord-1, ord]\n",
    "            kinv = 1.0/k\n",
    "            aux = abs( x.coeffs[k+1] )\n",
    "            h = min(h, (epsilon/aux)^kinv)\n",
    "        end\n",
    "    \n",
    "    elseif ord == 1\n",
    "        \n",
    "        \n",
    "        \n",
    "        aux = abs( x.coeffs[2])\n",
    "        \n",
    "        h = min(h, (epsilon/aux))\n",
    "        \n",
    "    end\n",
    "        \n",
    "    \n",
    "    \n",
    "    return h\n",
    "end"
   ]
  },
  {
   "cell_type": "markdown",
   "metadata": {
    "collapsed": true
   },
   "source": [
    "Necesitamos una función que sólo con las condiciones iniciales (y otros parámetros) , calcule las series de dos coches."
   ]
  },
  {
   "cell_type": "code",
   "execution_count": 14,
   "metadata": {
    "collapsed": false,
    "slideshow": {
     "slide_type": "notes"
    }
   },
   "outputs": [
    {
     "data": {
      "text/plain": [
       "series (generic function with 1 method)"
      ]
     },
     "execution_count": 14,
     "metadata": {},
     "output_type": "execute_result"
    }
   ],
   "source": [
    "function series(x10,x20,T1,T2,L1,L2,V1,V2)\n",
    "   \n",
    "    \n",
    "    vel1 = 1/T1 * modulo2pi(x20-L2,x10)\n",
    "    \n",
    "    vel2 = 1/T2 * modulo2pi(x10-L1,x20)\n",
    "    #Velocidades de seguridad.\n",
    "    \n",
    "    if vel1 < V1 && vel2 < V2\n",
    "    \n",
    "        x1 = taylor1_variable(Float64,20)\n",
    "        x2 = taylor1_variable(Float64,20)\n",
    "    \n",
    "        x1.coeffs[1] = x10\n",
    "        x1.coeffs[2] = 0\n",
    "    \n",
    "        x2.coeffs[1] = x20\n",
    "        x2.coeffs[2] = 0\n",
    "        \n",
    "        for i = 2:20\n",
    "            x1.coeffs[i] = velocidad_sec(T1,x1,x2,L2).coeffs[i-1]/i\n",
    "            x2.coeffs[i] = velocidad_sec(T2,x2,x1,L1).coeffs[i-1]/i\n",
    "        end\n",
    "    \n",
    "    \n",
    "    elseif vel1 < V1 && vel2 > V2\n",
    "        \n",
    "        x1 = taylor1_variable(Float64,20)\n",
    "        x2 = taylor1_variable(Float64,1)\n",
    "        \n",
    "        x1.coeffs[1] = x10\n",
    "        x1.coeffs[2] = 0\n",
    "        \n",
    "        x2.coeffs[1] = x20\n",
    "        \n",
    "        \n",
    "        x2.coeffs[2] = V2\n",
    "        for i = 2:20\n",
    "            x1.coeffs[i] = velocidad_sec(T1,x1,x2,L2).coeffs[i-1]/i\n",
    "        end\n",
    "        \n",
    "    \n",
    "    \n",
    "\n",
    "    \n",
    "    elseif vel1 > V1 && vel2 < V2\n",
    "        \n",
    "        x1 = taylor1_variable(Float64,1)\n",
    "        x2 = taylor1_variable(Float64,20)\n",
    "        \n",
    "        x1.coeffs[1] = x10\n",
    "        x1.coeffs[2] = V1\n",
    "        \n",
    "        x2.coeffs[1] = x20\n",
    "        x2.coeffs[0] = 0\n",
    "        \n",
    "        for i = 2:20\n",
    "            x2.coeffs[i] = velocidad_sec(T2,x2,x1,L1).coeffs[i-1]/i\n",
    "        end\n",
    "        \n",
    "        \n",
    "    \n",
    "    \n",
    "    elseif vel1 > V1 && vel2 > V2\n",
    "        x1 = taylor1_variable(Float64,1)\n",
    "        x2 = taylor1_variable(Float64,1)\n",
    "        \n",
    "        x1.coeffs[1] = x10\n",
    "        x1.coeffs[2] = V1\n",
    "        \n",
    "        x2.coeffs[1] = x20\n",
    "        x2.coeffs[2] = V2\n",
    "        \n",
    "    end\n",
    "    \n",
    "    return x1, x2\n",
    "    \n",
    "end\n",
    "    \n",
    "        \n",
    "    \n",
    "    \n",
    "    \n",
    "    "
   ]
  },
  {
   "cell_type": "code",
   "execution_count": 15,
   "metadata": {
    "collapsed": false
   },
   "outputs": [
    {
     "data": {
      "text/plain": [
       "TaylorSeries.Taylor1{Float64}"
      ]
     },
     "execution_count": 15,
     "metadata": {},
     "output_type": "execute_result"
    }
   ],
   "source": [
    " x2 = taylor1_variable(Float64,1)\n",
    "typeof(x2)"
   ]
  },
  {
   "cell_type": "code",
   "execution_count": 16,
   "metadata": {
    "collapsed": false
   },
   "outputs": [],
   "source": [
    "\n",
    "#t1 y t2 son vectores donde se guardarán los tiempos donde se evalúa la función.\n",
    "t1 = Float64[];\n",
    "push!(t1,0);\n",
    "\n",
    "#x1 y x2 son vectores donde se guardarán los valores de las funciones x1(t) y x2(t)\n",
    "\n",
    "x1 = Float64[];\n",
    "push!(x1,x1_0);\n",
    "x2 = Float64[];\n",
    "push!(x2,x2_0);\n",
    "\n",
    "\n",
    "\n",
    "\n",
    "for n in 2:1000\n",
    "    \n",
    "    x1Taylor = series(x1_0,x2_0,per1,per2,l1,l2,V1,V2)[1]\n",
    "    x2Taylor = series(x1_0,x2_0,per1,per2,l1,l2,V1,V2)[2]\n",
    "    \n",
    "    h1 = stepsize(x1Taylor,1.0e-5)\n",
    "    \n",
    "    h2 = stepsize(x2Taylor,1.0e-5)\n",
    "    h = min(h1,h2)\n",
    "    \n",
    "    \n",
    "    \n",
    "    push!(t1,t1[n-1] + h)\n",
    "    \n",
    "    x1_0 = evaluate(x1Taylor,h)\n",
    "    push!(x1,x1_0)\n",
    "    x2_0 = evaluate(x2Taylor,h)\n",
    "    push!(x2,x2_0)\n",
    "    \n",
    "end\n",
    "    \n",
    "    \n",
    "    \n",
    "    \n",
    "    "
   ]
  },
  {
   "cell_type": "code",
   "execution_count": 17,
   "metadata": {
    "collapsed": false
   },
   "outputs": [
    {
     "data": {
      "text/plain": [
       "1000-element Array{Float64,1}:\n",
       " 0.0     \n",
       " 5.0e-6  \n",
       " 1.0e-5  \n",
       " 1.5e-5  \n",
       " 2.0e-5  \n",
       " 2.5e-5  \n",
       " 3.0e-5  \n",
       " 3.5e-5  \n",
       " 4.0e-5  \n",
       " 4.5e-5  \n",
       " 5.0e-5  \n",
       " 5.5e-5  \n",
       " 6.0e-5  \n",
       " ⋮       \n",
       " 0.00494 \n",
       " 0.004945\n",
       " 0.00495 \n",
       " 0.004955\n",
       " 0.00496 \n",
       " 0.004965\n",
       " 0.00497 \n",
       " 0.004975\n",
       " 0.00498 \n",
       " 0.004985\n",
       " 0.00499 \n",
       " 0.004995"
      ]
     },
     "execution_count": 17,
     "metadata": {},
     "output_type": "execute_result"
    }
   ],
   "source": [
    "x1"
   ]
  },
  {
   "cell_type": "code",
   "execution_count": 18,
   "metadata": {
    "collapsed": false
   },
   "outputs": [
    {
     "ename": "LoadError",
     "evalue": "LoadError: MethodError: `stepsize` has no method matching stepsize(::Array{Float64,1}, ::Float64)\nClosest candidates are:\n  stepsize{T<:Real}(!Matched::TaylorSeries.Taylor1{T<:Real}, ::Float64)\nwhile loading In[18], in expression starting on line 1",
     "output_type": "error",
     "traceback": [
      "LoadError: MethodError: `stepsize` has no method matching stepsize(::Array{Float64,1}, ::Float64)\nClosest candidates are:\n  stepsize{T<:Real}(!Matched::TaylorSeries.Taylor1{T<:Real}, ::Float64)\nwhile loading In[18], in expression starting on line 1",
      ""
     ]
    }
   ],
   "source": [
    "h = stepsize(x2,1.0e-20)"
   ]
  },
  {
   "cell_type": "code",
   "execution_count": 19,
   "metadata": {
    "collapsed": false
   },
   "outputs": [
    {
     "data": {
      "text/plain": [
       "Array{Float64,1}"
      ]
     },
     "execution_count": 19,
     "metadata": {},
     "output_type": "execute_result"
    }
   ],
   "source": [
    "t1\n",
    "typeof(t1)"
   ]
  },
  {
   "cell_type": "code",
   "execution_count": 20,
   "metadata": {
    "collapsed": false
   },
   "outputs": [
    {
     "data": {
      "text/plain": [
       "speed (generic function with 1 method)"
      ]
     },
     "execution_count": 20,
     "metadata": {},
     "output_type": "execute_result"
    }
   ],
   "source": [
    "function speed(intPos::Array{Float64,1}, carL::Array{Float64,1}, carτ::Array{Float64,1}, carV::Array{Float64,1})\n",
    "    #Esta función decide la función que debe generar la serie de cada carro.\n",
    "    \n",
    "    n = length(intPos)\n",
    "    F = Function[]\n",
    "   \n",
    "    #F será un arreglo de funciones, una función para cada carro.\n",
    "    \n",
    "    for j in 1:n-1\n",
    "        \n",
    "        a = (modulo2pi(intPos[j+1],intPos[j])-carL[j+1])/carτ[j] #Checa la distancia al coche de enfrente.\n",
    "        b = carV[j]\n",
    "        \n",
    "        if a < b #Compara las velocidades y decide que función aplicar al coche j\n",
    "            push!(F,fSec)\n",
    "        else\n",
    "            push!(F,fmax)\n",
    "        end\n",
    "        \n",
    "    end\n",
    "    #El coche que está delante del enésimo es el coch 1. Se debe cerrar la cadena.\n",
    "    \n",
    "    a = (modulo2pi(intPos[1],intPos[n])-carL[1])/carτ[n]\n",
    "    b = carV[n]\n",
    "    \n",
    "    if a < b\n",
    "        push!(F,fSec)\n",
    "    else\n",
    "        push!(F,fmax)\n",
    "    end\n",
    "    \n",
    "    return F\n",
    "    \n",
    "end"
   ]
  },
  {
   "cell_type": "code",
   "execution_count": 21,
   "metadata": {
    "collapsed": false
   },
   "outputs": [
    {
     "data": {
      "text/plain": [
       "3-element Array{Float64,1}:\n",
       " 0.785398\n",
       " 1.5708  \n",
       " 2.35619 "
      ]
     },
     "execution_count": 21,
     "metadata": {},
     "output_type": "execute_result"
    }
   ],
   "source": [
    "X0 = [0,π,7*π/4];\n",
    "L = π/16 * [1,1,1];\n",
    "Τ = [1.0,1.0,1.0];\n",
    "V = [π/4, π/2, 3*π/4]"
   ]
  },
  {
   "cell_type": "code",
   "execution_count": 22,
   "metadata": {
    "collapsed": false
   },
   "outputs": [
    {
     "data": {
      "text/plain": [
       "3-element Array{Function,1}:\n",
       " fmax\n",
       " fmax\n",
       " fSec"
      ]
     },
     "execution_count": 22,
     "metadata": {},
     "output_type": "execute_result"
    }
   ],
   "source": [
    "F = speed(X0, L, Τ, V)"
   ]
  },
  {
   "cell_type": "code",
   "execution_count": 23,
   "metadata": {
    "collapsed": false
   },
   "outputs": [
    {
     "ename": "LoadError",
     "evalue": "LoadError: MethodError: `fmax` has no method matching fmax(::Float64, ::Array{Float64,1}, ::Array{Float64,1}, ::Float64, ::Float64)\nClosest candidates are:\n  fmax{R<:Real}(::R<:Real, !Matched::TaylorSeries.Taylor1{R<:Real}, !Matched::TaylorSeries.Taylor1{R<:Real}, ::R<:Real, ::R<:Real)\nwhile loading In[23], in expression starting on line 1",
     "output_type": "error",
     "traceback": [
      "LoadError: MethodError: `fmax` has no method matching fmax(::Float64, ::Array{Float64,1}, ::Array{Float64,1}, ::Float64, ::Float64)\nClosest candidates are:\n  fmax{R<:Real}(::R<:Real, !Matched::TaylorSeries.Taylor1{R<:Real}, !Matched::TaylorSeries.Taylor1{R<:Real}, ::R<:Real, ::R<:Real)\nwhile loading In[23], in expression starting on line 1",
      ""
     ]
    }
   ],
   "source": [
    "F[1](1.,x2,x2,1.,π/4)"
   ]
  },
  {
   "cell_type": "code",
   "execution_count": 24,
   "metadata": {
    "collapsed": false
   },
   "outputs": [
    {
     "data": {
      "text/plain": [
       "Taylorcars (generic function with 1 method)"
      ]
     },
     "execution_count": 24,
     "metadata": {},
     "output_type": "execute_result"
    }
   ],
   "source": [
    "function Taylorcars(initPos::Array{Float64,1}, carL::Array{Float64,1}, carτ::Array{Float64,1}, carV::Array{Float64,1})\n",
    "    \n",
    "    n = length(initPos)\n",
    "    \n",
    "    Xcars = TaylorSeries.Taylor1{Float64}[]\n",
    "    \n",
    "    #El siguiente cilco llena el arreglo Xcars con taylors que sólo tienen el coeficiente de orden cero.\n",
    "    for i in 1:n\n",
    "        x = taylor1_variable(Float64,10)\n",
    "        x.coeffs[1] = initPos[i]\n",
    "        x.coeffs[2] = 0\n",
    "        \n",
    "        push!(Xcars,x)\n",
    "    end\n",
    "    \n",
    "    #Se aplica la función speed para conocer la velocidad que tendrá cada carro\n",
    "    F = speed(initPos::Array{Float64,1}, carL::Array{Float64,1}, carτ::Array{Float64,1}, carV::Array{Float64,1})\n",
    "    \n",
    "    #Una vez conociendo la velocidad se puede proseguir a calcular coeficientes de las series de taylor de órdenes mayores\n",
    "    for i in 1:n-1\n",
    "        for j in 2:11\n",
    "            #Solo se aplica la fórmula de recurrencia.\n",
    "            Xcars[i].coeffs[j] = F[i](carτ[i], Xcars[i], Xcars[i+1] , carL[i+1] , carV[i] ).coeffs[j-1]/(j-1) #se divide entre j-1 para corregir el desfase de los Taylor1 en los coeffs.\n",
    "        end\n",
    "    end\n",
    "    \n",
    "    #Al igual que con la velocidad, el último coche debe cerrar el ciclo. Tiene enfrente al coche 1.\n",
    "    for j in 2:11\n",
    "            \n",
    "        Xcars[n].coeffs[j] = F[n](carτ[n], Xcars[n], Xcars[1] , carL[1] , carV[n] ).coeffs[j-1]/(j-1) #se divide entre j-1 para corregir el desfase de los Taylor1 en los coeffs.\n",
    "    end\n",
    "    \n",
    "    return Xcars\n",
    "    \n",
    "end\n",
    "    \n",
    "    "
   ]
  },
  {
   "cell_type": "code",
   "execution_count": 25,
   "metadata": {
    "collapsed": false
   },
   "outputs": [
    {
     "data": {
      "text/plain": [
       "3-element Array{TaylorSeries.Taylor1{Float64},1}:\n",
       "                                                                                                                                                                                                                                                               0.7853981633974483 t + 𝒪(t¹¹)\n",
       "                                                                                                                                                                                                                                           3.141592653589793 + 1.5707963267948966 t + 𝒪(t¹¹)\n",
       "  5.497787143782138 + 0.589048622548086 t + 0.09817477042468115 t² - 0.03272492347489372 t³ + 0.00818123086872343 t⁴ - 0.0016362461737446858 t⁵ + 0.0002727076956241143 t⁶ - 3.895824223201633e-5 t⁷ + 4.869780279002041e-6 t⁸ - 5.410866976668934e-7 t⁹ + 5.410866976668934e-8 t¹⁰ + 𝒪(t¹¹)"
      ]
     },
     "execution_count": 25,
     "metadata": {},
     "output_type": "execute_result"
    }
   ],
   "source": [
    "a=Taylorcars(X0, L, Τ, V)"
   ]
  },
  {
   "cell_type": "code",
   "execution_count": 26,
   "metadata": {
    "collapsed": false
   },
   "outputs": [
    {
     "data": {
      "text/plain": [
       " 0.7853981633974483 + 𝒪(t¹¹)"
      ]
     },
     "execution_count": 26,
     "metadata": {},
     "output_type": "execute_result"
    }
   ],
   "source": [
    "diffTaylor(a[1])"
   ]
  },
  {
   "cell_type": "code",
   "execution_count": 27,
   "metadata": {
    "collapsed": false
   },
   "outputs": [
    {
     "data": {
      "text/plain": [
       "hselector (generic function with 1 method)"
      ]
     },
     "execution_count": 27,
     "metadata": {},
     "output_type": "execute_result"
    }
   ],
   "source": [
    "#Seleccionamos el tamano de la h que vamos a usar para eso generamos un arreglo de h y elejiremos la más chica de ellas\n",
    "#dada una épsilon\n",
    "function hselector(seriecoches,ϵ)\n",
    "    n=length(seriecoches)\n",
    "    hs = Float64[]\n",
    "    \n",
    "    for i in 1:n\n",
    "        h=stepsize(seriecoches[i],ϵ)\n",
    "        push!(hs,h)\n",
    "    end\n",
    "    \n",
    "    minabs(hs)\n",
    "end"
   ]
  },
  {
   "cell_type": "code",
   "execution_count": 28,
   "metadata": {
    "collapsed": false
   },
   "outputs": [
    {
     "data": {
      "text/plain": [
       "2.306589704437606"
      ]
     },
     "execution_count": 28,
     "metadata": {},
     "output_type": "execute_result"
    }
   ],
   "source": [
    "b=hselector(a,1.0e-3)"
   ]
  },
  {
   "cell_type": "code",
   "execution_count": 29,
   "metadata": {
    "collapsed": false
   },
   "outputs": [
    {
     "data": {
      "text/plain": [
       "2.306589704437606"
      ]
     },
     "execution_count": 29,
     "metadata": {},
     "output_type": "execute_result"
    }
   ],
   "source": [
    "c=minabs(b)"
   ]
  },
  {
   "cell_type": "code",
   "execution_count": 30,
   "metadata": {
    "collapsed": false
   },
   "outputs": [
    {
     "data": {
      "text/plain": [
       "celeritates (generic function with 1 method)"
      ]
     },
     "execution_count": 30,
     "metadata": {},
     "output_type": "execute_result"
    }
   ],
   "source": [
    "function positions(tayse,h) #Calcula las nuevas posiciones\n",
    "    x=Float64[];\n",
    "    n=length(tayse)\n",
    "    \n",
    "    for i in 1:n\n",
    "        pos= evaluate(tayse[i],h)\n",
    "        push!(x,pos)\n",
    "    end\n",
    "    \n",
    "    return x\n",
    "end\n",
    "\n",
    "function celeritates(tayse,h) #Calcula las nuevas velocidades\n",
    "    v=Float64[];\n",
    "    n=length(tayse)\n",
    "    \n",
    "    for i in 1:n\n",
    "        ves= evaluate(diffTaylor(tayse[i]),h) #hace las primeras derivadas de las series de taylor de cada coche y las evalua\n",
    "        push!(v,ves)\n",
    "    end\n",
    "    \n",
    "    return v\n",
    "end"
   ]
  },
  {
   "cell_type": "code",
   "execution_count": 31,
   "metadata": {
    "collapsed": false
   },
   "outputs": [
    {
     "data": {
      "text/plain": [
       "pasamodulo2pi (generic function with 1 method)"
      ]
     },
     "execution_count": 31,
     "metadata": {},
     "output_type": "execute_result"
    }
   ],
   "source": [
    "function pasamodulo2pi(arreglo)\n",
    "    n=length(arreglo);\n",
    "    nuevarreg = Float64[];\n",
    "    for i in 1:n\n",
    "        nueva = mod2pi(arreglo[i])\n",
    "        push!(nuevarreg,nueva)\n",
    "    end\n",
    "    nuevarreg\n",
    "end"
   ]
  },
  {
   "cell_type": "code",
   "execution_count": 32,
   "metadata": {
    "collapsed": false
   },
   "outputs": [
    {
     "data": {
      "text/plain": [
       "4-element Array{Float64,1}:\n",
       " 3.14159\n",
       " 6.28319\n",
       " 3.14159\n",
       " 4.71239"
      ]
     },
     "execution_count": 32,
     "metadata": {},
     "output_type": "execute_result"
    }
   ],
   "source": [
    "pasamodulo2pi([π,2π,5π,7π/2])"
   ]
  },
  {
   "cell_type": "code",
   "execution_count": 33,
   "metadata": {
    "collapsed": false
   },
   "outputs": [
    {
     "data": {
      "text/plain": [
       "3-element Array{Float64,1}:\n",
       " 1.81159\n",
       " 6.76478\n",
       " 7.13263"
      ]
     },
     "execution_count": 33,
     "metadata": {},
     "output_type": "execute_result"
    }
   ],
   "source": [
    "positions(a,b)"
   ]
  },
  {
   "cell_type": "code",
   "execution_count": 34,
   "metadata": {
    "collapsed": false
   },
   "outputs": [
    {
     "data": {
      "text/plain": [
       "3-element Array{Float64,1}:\n",
       " 0.785398\n",
       " 1.5708  \n",
       " 0.766032"
      ]
     },
     "execution_count": 34,
     "metadata": {},
     "output_type": "execute_result"
    }
   ],
   "source": [
    "celeritates(a,b)"
   ]
  },
  {
   "cell_type": "code",
   "execution_count": 35,
   "metadata": {
    "collapsed": false
   },
   "outputs": [
    {
     "data": {
      "text/plain": [
       "0.7853981633974483"
      ]
     },
     "execution_count": 35,
     "metadata": {},
     "output_type": "execute_result"
    }
   ],
   "source": [
    "evaluate(diffTaylor(a[1]),b)"
   ]
  },
  {
   "cell_type": "code",
   "execution_count": 82,
   "metadata": {
    "collapsed": false
   },
   "outputs": [
    {
     "data": {
      "text/plain": [
       "Taypos (generic function with 2 methods)"
      ]
     },
     "execution_count": 82,
     "metadata": {},
     "output_type": "execute_result"
    }
   ],
   "source": [
    "#Ahora vamos a correr el método de Taylor.\n",
    "function Taypos(X0, L, Τ, V,tf,ϵ,ti=0.0)\n",
    "    tempore = Float64[ti]; #Arreglo de tiempo\n",
    "    loca = Vector{Float64}[X0]; #Arreglo de arreglo de posiciones\n",
    "    #celeritates = Vector{Float64}[V]; #Arreglo de arreglo de velocidades\n",
    "    \n",
    "    while ti <= tf\n",
    "        tayseries = Taylorcars(X0, L, Τ, V)\n",
    "        h = hselector(tayseries,ϵ)\n",
    "        xs = positions(tayseries, h)\n",
    "        vs = celeritates(tayseries,h)\n",
    "        ti = ti+h\n",
    "        push!(tempore,ti)\n",
    "        push!(loca,[pasamodulo2pi(xs);])\n",
    "        #push!(celeritates, [vs])\n",
    "        X0 = xs\n",
    "        #V = vs\n",
    "    end \n",
    "    \n",
    "    [tempore hcat(loca...)';]\n",
    "    \n",
    "end\n"
   ]
  },
  {
   "cell_type": "code",
   "execution_count": 87,
   "metadata": {
    "collapsed": false
   },
   "outputs": [],
   "source": [
    "X0 = [0,π,7*π/4];\n",
    "L = π/16 * [1,1,1];\n",
    "Τ = [1.0,1.0,1.0];\n",
    "V = [π/4, π/2, 3*π/4]\n",
    "tf = 1000;\n",
    "ϵ = 2.0e-20;"
   ]
  },
  {
   "cell_type": "code",
   "execution_count": 88,
   "metadata": {
    "collapsed": false
   },
   "outputs": [
    {
     "data": {
      "text/plain": [
       "36310x4 Array{Float64,2}:\n",
       "    0.0        0.0         3.14159  5.49779\n",
       "    0.0321758  0.0252708   3.19213  5.51684\n",
       "    0.0644668  0.0506321   3.24286  5.53616\n",
       "    0.0968739  0.0760846   3.29376  5.55574\n",
       "    0.129398   0.101629    3.34485  5.57558\n",
       "    0.16204    0.127266    3.39612  5.59568\n",
       "    0.1948     0.152996    3.44758  5.61603\n",
       "    0.22768    0.178819    3.49923  5.63663\n",
       "    0.26068    0.204738    3.55107  5.65747\n",
       "    0.293801   0.230751    3.60309  5.67855\n",
       "    0.327045   0.25686     3.65531  5.69988\n",
       "    0.360411   0.283066    3.70773  5.72144\n",
       "    0.393902   0.30937     3.76033  5.74323\n",
       "    ⋮                                      \n",
       "  999.701      6.04867     4.07431  5.06692\n",
       "  999.729      6.0703      4.09594  5.08855\n",
       "  999.756      6.09193     4.11757  5.11018\n",
       "  999.784      6.11356     4.1392   5.13181\n",
       "  999.812      6.13519     4.16083  5.15344\n",
       "  999.839      6.15682     4.18246  5.17507\n",
       "  999.867      6.17845     4.20409  5.1967 \n",
       "  999.894      6.20008     4.22572  5.21833\n",
       "  999.922      6.22171     4.24735  5.23996\n",
       "  999.949      6.24334     4.26898  5.26159\n",
       "  999.977      6.26497     4.29061  5.28322\n",
       " 1000.0        0.00341336  4.31224  5.30485"
      ]
     },
     "execution_count": 88,
     "metadata": {},
     "output_type": "execute_result"
    }
   ],
   "source": [
    "grafdat = Taypos(X0, L, Τ, V,tf,ϵ)"
   ]
  },
  {
   "cell_type": "code",
   "execution_count": null,
   "metadata": {
    "collapsed": true
   },
   "outputs": [],
   "source": []
  },
  {
   "cell_type": "code",
   "execution_count": null,
   "metadata": {
    "collapsed": true
   },
   "outputs": [],
   "source": []
  }
 ],
 "metadata": {
  "kernelspec": {
   "display_name": "Julia 0.4.1",
   "language": "julia",
   "name": "julia-0.4"
  },
  "language_info": {
   "file_extension": ".jl",
   "mimetype": "application/julia",
   "name": "julia",
   "version": "0.4.1"
  }
 },
 "nbformat": 4,
 "nbformat_minor": 0
}
